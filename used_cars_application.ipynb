{
 "cells": [
  {
   "cell_type": "code",
   "execution_count": 1,
   "id": "6f1ff04c",
   "metadata": {},
   "outputs": [
    {
     "data": {
      "application/vnd.jupyter.widget-view+json": {
       "model_id": "6d06acb2019a4cafa01a8e9e9e868b98",
       "version_major": 2,
       "version_minor": 0
      },
      "text/plain": [
       "Dropdown(description='Vehicle Type:', options=('Convertible', 'Coupe', 'Hatchback', 'Minivan', 'SUV', 'Sedan',…"
      ]
     },
     "metadata": {},
     "output_type": "display_data"
    },
    {
     "data": {
      "application/vnd.jupyter.widget-view+json": {
       "model_id": "11c4ede83f084b10b83f6edf9fec6c3a",
       "version_major": 2,
       "version_minor": 0
      },
      "text/plain": [
       "Dropdown(description='Make:', options=('Chevrolet', 'Chrysler', 'Dodge', 'FIAT', 'Ford', 'GMC', 'Honda', 'Humm…"
      ]
     },
     "metadata": {},
     "output_type": "display_data"
    },
    {
     "data": {
      "application/vnd.jupyter.widget-view+json": {
       "model_id": "dc726580ffe049289d05638e45a49426",
       "version_major": 2,
       "version_minor": 0
      },
      "text/plain": [
       "IntSlider(value=100000, description='Mileage:', max=300000, step=1000)"
      ]
     },
     "metadata": {},
     "output_type": "display_data"
    },
    {
     "data": {
      "application/vnd.jupyter.widget-view+json": {
       "model_id": "604e06d52ed045ba983a597c1bc5b48e",
       "version_major": 2,
       "version_minor": 0
      },
      "text/plain": [
       "IntSlider(value=2015, description='Year:', max=2023, min=1990)"
      ]
     },
     "metadata": {},
     "output_type": "display_data"
    },
    {
     "data": {
      "application/vnd.jupyter.widget-view+json": {
       "model_id": "27c29d7273cc45e5b6cc10e87fd3c064",
       "version_major": 2,
       "version_minor": 0
      },
      "text/plain": [
       "Button(description='Predict Price', icon='check', style=ButtonStyle(), tooltip='Click to predict the price')"
      ]
     },
     "metadata": {},
     "output_type": "display_data"
    },
    {
     "data": {
      "application/vnd.jupyter.widget-view+json": {
       "model_id": "dd2f369e675842b5abc893352a560fcd",
       "version_major": 2,
       "version_minor": 0
      },
      "text/plain": [
       "Button(button_style='danger', description='Reset', icon='refresh', style=ButtonStyle(), tooltip='Click to rese…"
      ]
     },
     "metadata": {},
     "output_type": "display_data"
    },
    {
     "data": {
      "application/vnd.jupyter.widget-view+json": {
       "model_id": "0cc3315d2a9347648f193834962b5e85",
       "version_major": 2,
       "version_minor": 0
      },
      "text/plain": [
       "Output()"
      ]
     },
     "metadata": {},
     "output_type": "display_data"
    }
   ],
   "source": [
    "import pandas as pd\n",
    "import ipywidgets as widgets\n",
    "import joblib\n",
    "import os  # Add this import\n",
    "\n",
    "# Determine the path to the model file based on the notebook's location\n",
    "notebook_dir = os.getcwd()\n",
    "model_path = os.path.join(notebook_dir, 'linear_regression_model_slimmed_smaller_sample.pkl')\n",
    "\n",
    "# Load the trained model\n",
    "loaded_model = joblib.load(model_path)\n",
    "\n",
    "\n",
    "# Sample mapping dictionaries (replace with your actual mappings)\n",
    "vehicle_type_mapping = {0: 'Convertible', 1: 'Coupe', 2: 'Hatchback', \n",
    "                        3: 'Minivan', 4: 'SUV', 5: 'Sedan', 6: 'Truck', 7: 'Van', 8: 'Wagon'}\n",
    "make_mapping = {0: 'Chevrolet', 1: 'Chrysler', 2: 'Dodge', 3: 'FIAT', 4: 'Ford', 5: 'GMC', 6: 'Honda', 7: 'Hummer',\n",
    "                8: 'Hyundai', 9: 'INFINITI', 10: 'Jeep', 11: 'Kia', 12: 'Lincoln', 13: 'Lotus', 14: 'MINI',\n",
    "                15: 'Mazda', 16: 'Mercury', 17: 'Mitsubishi', 18: 'Nissan', 19: 'Plymouth', 20: 'Pontiac',\n",
    "                21: 'RAM', 22: 'Saab', 23: 'Saturn', 24: 'Scion', 25: 'Subaru', 26: 'Suzuki', 27:'Toyota', \n",
    "                28: 'Volkswagen', 29: 'smart'}\n",
    " \n",
    "# Create dropdown widgets\n",
    "vehicle_type_dropdown = widgets.Dropdown(\n",
    "    options=list(vehicle_type_mapping.values()),\n",
    "    description='Vehicle Type:',\n",
    ")\n",
    "\n",
    "make_dropdown = widgets.Dropdown(\n",
    "    options=list(make_mapping.values()),\n",
    "    description='Make:',\n",
    ")\n",
    "\n",
    "# Create slider widgets\n",
    "mileage_slider = widgets.IntSlider(\n",
    "    min=0,\n",
    "    max=300000,\n",
    "    step=1000,\n",
    "    value=100000,\n",
    "    description='Mileage:'\n",
    ")\n",
    "\n",
    "year_slider = widgets.IntSlider(\n",
    "    min=1990,\n",
    "    max=2023,\n",
    "    step=1,\n",
    "    value=2015,\n",
    "    description='Year:'\n",
    ")\n",
    "\n",
    "# Display the widgets\n",
    "display(vehicle_type_dropdown)\n",
    "display(make_dropdown)\n",
    "display(mileage_slider)\n",
    "display(year_slider)\n",
    "\n",
    "# Create a button widget\n",
    "predict_button = widgets.Button(\n",
    "    description='Predict Price',\n",
    "    disabled=False,\n",
    "    button_style='',  # 'success', 'info', 'warning', 'danger' or ''\n",
    "    tooltip='Click to predict the price',\n",
    "    icon='check'  # (FontAwesome names without the `fa-` prefix)\n",
    ")\n",
    "\n",
    "# Create a reset button widget\n",
    "reset_button = widgets.Button(\n",
    "    description='Reset',\n",
    "    disabled=False,\n",
    "    button_style='danger',  # Use a danger style button for reset\n",
    "    tooltip='Click to reset',\n",
    "    icon='refresh'  # You can use a refresh icon for reset\n",
    ")\n",
    "\n",
    "# Create an output widget for displaying predictions\n",
    "output = widgets.Output()\n",
    "\n",
    "# Function to clear the output when the reset button is clicked\n",
    "def reset_button_clicked(b):\n",
    "    output.clear_output()\n",
    "\n",
    "# Function to perform prediction when the button is clicked\n",
    "def predict_button_clicked(b):\n",
    "    with output:\n",
    "        # Retrieve slider values and checkbox states inside the function\n",
    "        selected_vehicle_type = list(vehicle_type_mapping.keys())[list(vehicle_type_mapping.values()).index(vehicle_type_dropdown.value)]\n",
    "        selected_make = list(make_mapping.keys())[list(make_mapping.values()).index(make_dropdown.value)]\n",
    "        selected_mileage = mileage_slider.value\n",
    "        selected_year = year_slider.value\n",
    "        \n",
    "        # Load the trained model (you don't need to load it multiple times)\n",
    "        # loaded_model = joblib.load('D:/Desktop/c964Capstone/random_forest_regression_model_slimmed.pkl')\n",
    "\n",
    "        # User inputs\n",
    "        user_inputs = {\n",
    "            'model_year': selected_year,\n",
    "            'mileage': selected_mileage,\n",
    "            'vehicle_type_encoded': selected_vehicle_type,\n",
    "            'make_encoded': selected_make,\n",
    "        }\n",
    "\n",
    "        # Create a DataFrame with user inputs\n",
    "        user_input_df = pd.DataFrame([user_inputs])\n",
    "\n",
    "        # Ensure the DataFrame columns match the feature names used during training\n",
    "        missing_features = set(loaded_model.feature_names_in_) - set(user_input_df.columns)\n",
    "        for feature in missing_features:\n",
    "            user_input_df[feature] = 0  # Add missing features with default value 0\n",
    "\n",
    "        # Reorder columns to match the model's expected order\n",
    "        user_input_df = user_input_df[loaded_model.feature_names_in_]\n",
    "\n",
    "        # Make predictions using the user input data\n",
    "        predicted_prices = loaded_model.predict(user_input_df)\n",
    "\n",
    "        # Display the predicted resale price\n",
    "        predicted_price = max(predicted_prices[0], 0)\n",
    "        inputs_str = ', '.join([f'{key}: {value}' for key, value in user_inputs.items()])\n",
    "        print(f\"Inputs: {inputs_str},  ${predicted_price:.2f}\")\n",
    "\n",
    "# Set the button's click event handler\n",
    "predict_button.on_click(predict_button_clicked)\n",
    "\n",
    "\n",
    "# Set the reset button's click event handler\n",
    "reset_button.on_click(reset_button_clicked)\n",
    "\n",
    "# Display the buttons and output\n",
    "display(predict_button)\n",
    "display(reset_button)\n",
    "display(output)"
   ]
  },
  {
   "cell_type": "code",
   "execution_count": null,
   "id": "79e1b48e",
   "metadata": {},
   "outputs": [],
   "source": []
  }
 ],
 "metadata": {
  "kernelspec": {
   "display_name": "Python 3 (ipykernel)",
   "language": "python",
   "name": "python3"
  },
  "language_info": {
   "codemirror_mode": {
    "name": "ipython",
    "version": 3
   },
   "file_extension": ".py",
   "mimetype": "text/x-python",
   "name": "python",
   "nbconvert_exporter": "python",
   "pygments_lexer": "ipython3",
   "version": "3.11.4"
  }
 },
 "nbformat": 4,
 "nbformat_minor": 5
}
